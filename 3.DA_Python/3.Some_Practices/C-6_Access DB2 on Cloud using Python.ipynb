{
 "cells": [
  {
   "cell_type": "code",
   "execution_count": 2,
   "id": "139f6782",
   "metadata": {},
   "outputs": [],
   "source": [
    "import ibm_db"
   ]
  },
  {
   "cell_type": "code",
   "execution_count": 3,
   "id": "c2131e00",
   "metadata": {},
   "outputs": [],
   "source": [
    "dsn_driver = \"{IBM DB2 ODBC DRIVER}\"\n",
    "dsn_database = \"BLUDB\"\n",
    "dsn_hostname = \"815fa4db-dc03-4c70-869a-a9cc13f33084.bs2io90l08kqb1od8lcg.databases.appdomain.cloud\"\n",
    "dsn_protocol = \"TCPIP\"\n",
    "dsn_port = \"30367\"\n",
    "dsn_security = \"SSL\"\n",
    "dsn_uid = \"dvx78774\"\n",
    "dsn_pwd = \"j0mTJKkaFz2VplvP\""
   ]
  },
  {
   "cell_type": "code",
   "execution_count": 4,
   "id": "02bc11e6",
   "metadata": {},
   "outputs": [
    {
     "name": "stdout",
     "output_type": "stream",
     "text": [
      "DRIVER={IBM DB2 ODBC DRIVER};DATABASE=BLUDB;HOSTNAME=815fa4db-dc03-4c70-869a-a9cc13f33084.bs2io90l08kqb1od8lcg.databases.appdomain.cloud;PORT=30367;PROTOCOL=TCPIP;UID=dvx78774;PWD=j0mTJKkaFz2VplvP;SECURITY=SSL;\n"
     ]
    }
   ],
   "source": [
    "dsn=(\n",
    "    \"DRIVER={0};\"\n",
    "    \"DATABASE={1};\"\n",
    "    \"HOSTNAME={2};\"\n",
    "    \"PORT={3};\"\n",
    "    \"PROTOCOL={4};\"\n",
    "    \"UID={5};\"\n",
    "    \"PWD={6};\"\n",
    "    \"SECURITY={7};\".format(dsn_driver, dsn_database, dsn_hostname, dsn_port, dsn_protocol, dsn_uid, dsn_pwd, dsn_security)\n",
    "    )\n",
    "\n",
    "print(dsn)"
   ]
  },
  {
   "cell_type": "code",
   "execution_count": 5,
   "id": "ce7327eb",
   "metadata": {},
   "outputs": [
    {
     "name": "stdout",
     "output_type": "stream",
     "text": [
      "Connected to Database:  BLUDB as user:  dvx78774 on host:  815fa4db-dc03-4c70-869a-a9cc13f33084.bs2io90l08kqb1od8lcg.databases.appdomain.cloud\n"
     ]
    }
   ],
   "source": [
    "try:\n",
    "    conn=ibm_db.connect(dsn,\"\",\"\")\n",
    "    print(\"Connected to Database: \", dsn_database, \"as user: \", dsn_uid, \"on host: \", dsn_hostname)\n",
    "except:\n",
    "    print(\"Error connecting to the database\", ibm_db.conn_errormsg())"
   ]
  },
  {
   "cell_type": "code",
   "execution_count": 6,
   "id": "b215a59d",
   "metadata": {},
   "outputs": [],
   "source": [
    "dropQuery=\"drop table INSTRUCTOR\"\n",
    "dropStmt=ibm_db.exec_immediate(conn,dropQuery)"
   ]
  },
  {
   "cell_type": "code",
   "execution_count": 7,
   "id": "eb6ade63",
   "metadata": {},
   "outputs": [],
   "source": [
    "MakeQuery=\"CREATE TABLE INSTRUCTOR(ID INTEGER PRIMARY KEY NOT NULL, FNAME VARCHAR(20),LNAME VARCHAR(20),CITY VARCHAR(20),CCODE CHAR(2));\"\n",
    "MakeStmt=ibm_db.exec_immediate(conn,MakeQuery)"
   ]
  },
  {
   "cell_type": "code",
   "execution_count": 8,
   "id": "91a2c494",
   "metadata": {},
   "outputs": [],
   "source": [
    "InsertQuery=\"INSERT INTO INSTRUCTOR(ID,FNAME,LNAME,CITY,CCODE) VALUES (1,'APPLE','MAHMOOD','DHAKA','BD')\"\n",
    "InsertStmt=ibm_db.exec_immediate(conn,InsertQuery)                                                              "
   ]
  },
  {
   "cell_type": "code",
   "execution_count": 9,
   "id": "ae521d10",
   "metadata": {},
   "outputs": [
    {
     "data": {
      "text/plain": [
       "{'ID': 1,\n",
       " 0: 1,\n",
       " 'FNAME': 'APPLE',\n",
       " 1: 'APPLE',\n",
       " 'LNAME': 'MAHMOOD',\n",
       " 2: 'MAHMOOD',\n",
       " 'CITY': 'DHAKA',\n",
       " 3: 'DHAKA',\n",
       " 'CCODE': 'BD',\n",
       " 4: 'BD'}"
      ]
     },
     "execution_count": 9,
     "metadata": {},
     "output_type": "execute_result"
    }
   ],
   "source": [
    "SelectQuery=\"SELECT * FROM INSTRUCTOR\"\n",
    "SelectStmt=ibm_db.exec_immediate(conn,SelectQuery)\n",
    "\n",
    "ibm_db.fetch_both(SelectStmt)"
   ]
  },
  {
   "cell_type": "code",
   "execution_count": 10,
   "id": "ff9e0827",
   "metadata": {},
   "outputs": [],
   "source": [
    "InsertQuery=\"INSERT INTO INSTRUCTOR(ID,FNAME,LNAME,CITY,CCODE) VALUES (2,'SHAKIL','MAHMUD','DHAKA','BD')\"\n",
    "InsertStmt=ibm_db.exec_immediate(conn,InsertQuery)    "
   ]
  },
  {
   "cell_type": "code",
   "execution_count": 11,
   "id": "d4039f1f",
   "metadata": {},
   "outputs": [
    {
     "data": {
      "text/plain": [
       "{'ID': 1,\n",
       " 0: 1,\n",
       " 'FNAME': 'APPLE',\n",
       " 1: 'APPLE',\n",
       " 'LNAME': 'MAHMOOD',\n",
       " 2: 'MAHMOOD',\n",
       " 'CITY': 'DHAKA',\n",
       " 3: 'DHAKA',\n",
       " 'CCODE': 'BD',\n",
       " 4: 'BD'}"
      ]
     },
     "execution_count": 11,
     "metadata": {},
     "output_type": "execute_result"
    }
   ],
   "source": [
    "SelectQuery2=\"SELECT * FROM INSTRUCTOR\"\n",
    "SelectStmt2=ibm_db.exec_immediate(conn,SelectQuery2)\n",
    "\n",
    "ibm_db.fetch_both(SelectStmt2)"
   ]
  },
  {
   "cell_type": "code",
   "execution_count": 12,
   "id": "c581ab74",
   "metadata": {},
   "outputs": [
    {
     "name": "stdout",
     "output_type": "stream",
     "text": [
      " ID: 2  FNAME: SHAKIL\n"
     ]
    }
   ],
   "source": [
    "while ibm_db.fetch_row(SelectStmt2) != False:\n",
    "    print (\" ID:\",  ibm_db.result(SelectStmt2, 0), \" FNAME:\",  ibm_db.result(SelectStmt2, \"FNAME\"))"
   ]
  },
  {
   "cell_type": "code",
   "execution_count": 13,
   "id": "a0517395",
   "metadata": {},
   "outputs": [],
   "source": [
    "InsertQuery=\"INSERT INTO INSTRUCTOR(ID,FNAME,LNAME,CITY,CCODE) VALUES (3,'ROBIN','MAJUMDAR','DUBAI','UE')\"\n",
    "InsertStmt=ibm_db.exec_immediate(conn,InsertQuery)    "
   ]
  },
  {
   "cell_type": "code",
   "execution_count": 14,
   "id": "ba7fd6d3",
   "metadata": {},
   "outputs": [
    {
     "data": {
      "text/plain": [
       "{'ID': 1,\n",
       " 0: 1,\n",
       " 'FNAME': 'APPLE',\n",
       " 1: 'APPLE',\n",
       " 'LNAME': 'MAHMOOD',\n",
       " 2: 'MAHMOOD',\n",
       " 'CITY': 'DHAKA',\n",
       " 3: 'DHAKA',\n",
       " 'CCODE': 'BD',\n",
       " 4: 'BD'}"
      ]
     },
     "execution_count": 14,
     "metadata": {},
     "output_type": "execute_result"
    }
   ],
   "source": [
    "SelectQuery3=\"SELECT * FROM INSTRUCTOR\"\n",
    "SelectStmt3=ibm_db.exec_immediate(conn,SelectQuery3)\n",
    "\n",
    "ibm_db.fetch_both(SelectStmt3)"
   ]
  },
  {
   "cell_type": "code",
   "execution_count": 15,
   "id": "de8d3d9f",
   "metadata": {},
   "outputs": [
    {
     "name": "stdout",
     "output_type": "stream",
     "text": [
      " ID: 2  FNAME: SHAKIL  LNAME: MAHMUD\n",
      " ID: 3  FNAME: ROBIN  LNAME: MAJUMDAR\n"
     ]
    }
   ],
   "source": [
    "while ibm_db.fetch_row(SelectStmt3) != False:\n",
    "    print (\" ID:\",  ibm_db.result(SelectStmt3, 0), \" FNAME:\",  ibm_db.result(SelectStmt3, \"FNAME\"),\" LNAME:\",  ibm_db.result(SelectStmt3, \"LNAME\"))"
   ]
  },
  {
   "cell_type": "markdown",
   "id": "97947125",
   "metadata": {},
   "source": [
    "# Import from panadas"
   ]
  },
  {
   "cell_type": "code",
   "execution_count": 16,
   "id": "cef12869",
   "metadata": {},
   "outputs": [],
   "source": [
    "import pandas as pd\n",
    "import ibm_db_dbi"
   ]
  },
  {
   "cell_type": "code",
   "execution_count": 17,
   "id": "95187218",
   "metadata": {},
   "outputs": [],
   "source": [
    "pconn=ibm_db_dbi.Connection(conn)"
   ]
  },
  {
   "cell_type": "code",
   "execution_count": 18,
   "id": "bd039f30",
   "metadata": {},
   "outputs": [
    {
     "data": {
      "text/plain": [
       "0     MAHMOOD\n",
       "1      MAHMUD\n",
       "2    MAJUMDAR\n",
       "Name: LNAME, dtype: object"
      ]
     },
     "execution_count": 18,
     "metadata": {},
     "output_type": "execute_result"
    }
   ],
   "source": [
    "SelectQuery4=\"select * from INSTRUCTOR\"\n",
    "pdf=pd.read_sql(SelectQuery4,pconn)\n",
    "\n",
    "pdf['LNAME']"
   ]
  },
  {
   "cell_type": "code",
   "execution_count": 19,
   "id": "240901f2",
   "metadata": {},
   "outputs": [
    {
     "data": {
      "text/html": [
       "<div>\n",
       "<style scoped>\n",
       "    .dataframe tbody tr th:only-of-type {\n",
       "        vertical-align: middle;\n",
       "    }\n",
       "\n",
       "    .dataframe tbody tr th {\n",
       "        vertical-align: top;\n",
       "    }\n",
       "\n",
       "    .dataframe thead th {\n",
       "        text-align: right;\n",
       "    }\n",
       "</style>\n",
       "<table border=\"1\" class=\"dataframe\">\n",
       "  <thead>\n",
       "    <tr style=\"text-align: right;\">\n",
       "      <th></th>\n",
       "      <th>ID</th>\n",
       "      <th>FNAME</th>\n",
       "      <th>LNAME</th>\n",
       "      <th>CITY</th>\n",
       "      <th>CCODE</th>\n",
       "    </tr>\n",
       "  </thead>\n",
       "  <tbody>\n",
       "    <tr>\n",
       "      <th>0</th>\n",
       "      <td>1</td>\n",
       "      <td>APPLE</td>\n",
       "      <td>MAHMOOD</td>\n",
       "      <td>DHAKA</td>\n",
       "      <td>BD</td>\n",
       "    </tr>\n",
       "    <tr>\n",
       "      <th>1</th>\n",
       "      <td>2</td>\n",
       "      <td>SHAKIL</td>\n",
       "      <td>MAHMUD</td>\n",
       "      <td>DHAKA</td>\n",
       "      <td>BD</td>\n",
       "    </tr>\n",
       "    <tr>\n",
       "      <th>2</th>\n",
       "      <td>3</td>\n",
       "      <td>ROBIN</td>\n",
       "      <td>MAJUMDAR</td>\n",
       "      <td>DUBAI</td>\n",
       "      <td>UE</td>\n",
       "    </tr>\n",
       "  </tbody>\n",
       "</table>\n",
       "</div>"
      ],
      "text/plain": [
       "   ID   FNAME     LNAME   CITY CCODE\n",
       "0   1   APPLE   MAHMOOD  DHAKA    BD\n",
       "1   2  SHAKIL    MAHMUD  DHAKA    BD\n",
       "2   3   ROBIN  MAJUMDAR  DUBAI    UE"
      ]
     },
     "execution_count": 19,
     "metadata": {},
     "output_type": "execute_result"
    }
   ],
   "source": [
    "pdf"
   ]
  },
  {
   "cell_type": "code",
   "execution_count": 20,
   "id": "8d380fb5",
   "metadata": {},
   "outputs": [
    {
     "data": {
      "text/plain": [
       "True"
      ]
     },
     "execution_count": 20,
     "metadata": {},
     "output_type": "execute_result"
    }
   ],
   "source": [
    "ibm_db.close(conn)"
   ]
  },
  {
   "cell_type": "code",
   "execution_count": null,
   "id": "c0d44fd0",
   "metadata": {},
   "outputs": [],
   "source": []
  }
 ],
 "metadata": {
  "kernelspec": {
   "display_name": "Python 3 (ipykernel)",
   "language": "python",
   "name": "python3"
  },
  "language_info": {
   "codemirror_mode": {
    "name": "ipython",
    "version": 3
   },
   "file_extension": ".py",
   "mimetype": "text/x-python",
   "name": "python",
   "nbconvert_exporter": "python",
   "pygments_lexer": "ipython3",
   "version": "3.9.12"
  }
 },
 "nbformat": 4,
 "nbformat_minor": 5
}
