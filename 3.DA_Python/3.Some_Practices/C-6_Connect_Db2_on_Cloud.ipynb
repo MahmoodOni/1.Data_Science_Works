{
 "cells": [
  {
   "cell_type": "code",
   "execution_count": 15,
   "id": "84bee5e1",
   "metadata": {},
   "outputs": [],
   "source": [
    "import ibm_db"
   ]
  },
  {
   "cell_type": "code",
   "execution_count": 16,
   "id": "ed2f3597",
   "metadata": {},
   "outputs": [],
   "source": [
    "dsn_driver = \"{IBM DB2 ODBC DRIVER}\"\n",
    "dsn_database = \"BLUDB\"\n",
    "dsn_hostname = \"815fa4db-dc03-4c70-869a-a9cc13f33084.bs2io90l08kqb1od8lcg.databases.appdomain.cloud\"\n",
    "dsn_protocol = \"TCPIP\"\n",
    "dsn_port = \"30367\"\n",
    "dsn_security = \"SSL\"\n",
    "dsn_uid = \"dvx78774\"\n",
    "dsn_pwd = \"j0mTJKkaFz2VplvP\""
   ]
  },
  {
   "cell_type": "code",
   "execution_count": 17,
   "id": "03917702",
   "metadata": {},
   "outputs": [
    {
     "name": "stdout",
     "output_type": "stream",
     "text": [
      "DRIVER={IBM DB2 ODBC DRIVER};DATABASE=BLUDB;HOSTNAME=815fa4db-dc03-4c70-869a-a9cc13f33084.bs2io90l08kqb1od8lcg.databases.appdomain.cloud;PORT=30367;PROTOCOL=TCPIP;UID=dvx78774;PWD=j0mTJKkaFz2VplvP;SECURITY=SSL;\n"
     ]
    }
   ],
   "source": [
    "dsn=(\n",
    "    \"DRIVER={0};\"\n",
    "    \"DATABASE={1};\"\n",
    "    \"HOSTNAME={2};\"\n",
    "    \"PORT={3};\"\n",
    "    \"PROTOCOL={4};\"\n",
    "    \"UID={5};\"\n",
    "    \"PWD={6};\"\n",
    "    \"SECURITY={7};\".format(dsn_driver, dsn_database, dsn_hostname, dsn_port, dsn_protocol, dsn_uid, dsn_pwd, dsn_security)\n",
    "    )\n",
    "\n",
    "print(dsn)"
   ]
  },
  {
   "cell_type": "code",
   "execution_count": 18,
   "id": "c57c5195",
   "metadata": {},
   "outputs": [
    {
     "name": "stdout",
     "output_type": "stream",
     "text": [
      "Connected to Database:  BLUDB as user:  dvx78774 on host:  815fa4db-dc03-4c70-869a-a9cc13f33084.bs2io90l08kqb1od8lcg.databases.appdomain.cloud\n"
     ]
    }
   ],
   "source": [
    "try:\n",
    "    conn=ibm_db.connect(dsn,\"\",\"\")\n",
    "    print(\"Connected to Database: \", dsn_database, \"as user: \", dsn_uid, \"on host: \", dsn_hostname)\n",
    "except:\n",
    "    print(\"Error connecting to the database\", ibm_db.conn_errormsg())"
   ]
  },
  {
   "cell_type": "code",
   "execution_count": 19,
   "id": "2b6cfbbf",
   "metadata": {},
   "outputs": [
    {
     "name": "stdout",
     "output_type": "stream",
     "text": [
      "DBMS_NAME:----> DB2/LINUXX8664\n",
      "DBMS_VER:-----> 11.05.0800\n",
      "DB_NAME:------> BLUDB\n"
     ]
    }
   ],
   "source": [
    "server=ibm_db.server_info(conn)\n",
    "\n",
    "print(\"DBMS_NAME:---->\",server.DBMS_NAME)\n",
    "print(\"DBMS_VER:----->\",server.DBMS_VER)\n",
    "print(\"DB_NAME:------>\",server.DB_NAME)"
   ]
  },
  {
   "cell_type": "code",
   "execution_count": 20,
   "id": "4ab1dafc",
   "metadata": {},
   "outputs": [
    {
     "name": "stdout",
     "output_type": "stream",
     "text": [
      "DRIVER_NAME:--------------> DB2CLI.DLL\n",
      "DRIVER_VER:---------------> 11.05.0600\n",
      "DRIVER_ODBC_VER:----------> 03.51\n",
      "ODBC_VER:-----------------> 03.01.0000\n",
      "ODBC_SQL_CONFORMANCE:-----> EXTENDED\n",
      "DATA_SOURCE_NAME:---------> BLUDB\n",
      "APPL_CODEPAGE:------------> 1252\n",
      "CONN_CODEPAGE:------------> 1208\n"
     ]
    }
   ],
   "source": [
    "client=ibm_db.client_info(conn)\n",
    "\n",
    "print(\"DRIVER_NAME:-------------->\",client.DRIVER_NAME)\n",
    "print(\"DRIVER_VER:--------------->\",client.DRIVER_VER)\n",
    "print(\"DRIVER_ODBC_VER:---------->\",client.DRIVER_ODBC_VER)\n",
    "print(\"ODBC_VER:----------------->\",client.ODBC_VER)\n",
    "print(\"ODBC_SQL_CONFORMANCE:----->\",client.ODBC_SQL_CONFORMANCE)\n",
    "print(\"DATA_SOURCE_NAME:--------->\",client.DATA_SOURCE_NAME)\n",
    "print(\"APPL_CODEPAGE:------------>\",client.APPL_CODEPAGE)\n",
    "print(\"CONN_CODEPAGE:------------>\",client.CONN_CODEPAGE)"
   ]
  },
  {
   "cell_type": "code",
   "execution_count": 21,
   "id": "9a452c65",
   "metadata": {},
   "outputs": [
    {
     "data": {
      "text/plain": [
       "True"
      ]
     },
     "execution_count": 21,
     "metadata": {},
     "output_type": "execute_result"
    }
   ],
   "source": [
    "ibm_db.close(conn)"
   ]
  },
  {
   "cell_type": "code",
   "execution_count": null,
   "id": "e5df5e6a",
   "metadata": {},
   "outputs": [],
   "source": []
  }
 ],
 "metadata": {
  "kernelspec": {
   "display_name": "Python 3 (ipykernel)",
   "language": "python",
   "name": "python3"
  },
  "language_info": {
   "codemirror_mode": {
    "name": "ipython",
    "version": 3
   },
   "file_extension": ".py",
   "mimetype": "text/x-python",
   "name": "python",
   "nbconvert_exporter": "python",
   "pygments_lexer": "ipython3",
   "version": "3.9.12"
  }
 },
 "nbformat": 4,
 "nbformat_minor": 5
}
